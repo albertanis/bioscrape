{
 "cells": [
  {
   "cell_type": "markdown",
   "metadata": {},
   "source": [
    "0. Create a Model with division, death, and volume"
   ]
  },
  {
   "cell_type": "code",
   "execution_count": null,
   "metadata": {},
   "outputs": [],
   "source": [
    "%matplotlib inline\n",
    "from bioscrape.lineage import LineageModel\n",
    "from bioscrape.lineage import LineageVolumeSplitter\n",
    "import numpy as np\n",
    "import pylab as plt\n",
    "\n",
    "#Define Rates\n",
    "k = 1\n",
    "d = .1\n",
    "g = .2\n",
    "\n",
    "#Define Reactions\n",
    "rxn1 = ([\"A\"], [\"A\", \"X\"], \"massaction\", {\"k\":k}) #A --> A + X @ k=k\n",
    "rxn2 = ([\"A\"], [\"B\"], \"massaction\", {\"k\":d}) #A --> B @ k=d\n",
    "rxn3 = ([\"B\"], [\"A\"], \"massaction\", {\"k\":d}) #B --> A @ k=d\n",
    "rxns = [rxn1, rxn2, rxn3] #Define a list of all reactions\n",
    "\n",
    "#Define initial condtion (as a dictionary)\n",
    "x0 = {\"X\": 0, \"A\":1}\n",
    "#Instantiate Model\n",
    "LM1 = LineageModel(reactions = rxns, initial_condition_dict = x0)\n",
    "\n",
    "#Add a volume event to the model (with a mass action propensity dependent on X). Causes the volume to grow linearly by the amount g when event fires.\n",
    "LM1.create_volume_event(\"linear volume\", {\"growth_rate\":g}, \"massaction\", {\"k\":.1, \"species\":\"X\"})\n",
    "\n",
    "#Create a Volume Splitter which determines how species are partitioned at division\n",
    "#species A and B will be duplicated (as if they were genomic) and X will by default be partitioned binomially\n",
    "vsplit = LineageVolumeSplitter(LM1, options = {\"A\":\"duplicate\", \"B\":\"duplicate\"})\n",
    "\n",
    "#Create two division rules, both use the same volume splitter\n",
    "#1: cells divide when their volume increases by 5\n",
    "LM1.create_division_rule(\"deltaV\", {\"threshold\":5}, vsplit)\n",
    "#Cells divide after 50 time units (since their last division)\n",
    "LM1.create_division_rule(\"time\", {\"threshold\":50}, vsplit)\n",
    "#Create a death event with a positive hill function propensity H(X) = k / (1+(x/K)^n)\n",
    "#LM1.create_death_event(\"death\", {}, \"hillpositive\", {\"s1\":\"X\", \"K\":25, \"n\":2, \"k\":.25})\n",
    "#Initialize the model (this also a)\n",
    "LM1.py_initialize()"
   ]
  },
  {
   "cell_type": "markdown",
   "metadata": {},
   "source": [
    "1. Testing SimulateCellLineage in the LineageSSASimulator"
   ]
  },
  {
   "cell_type": "code",
   "execution_count": null,
   "metadata": {},
   "outputs": [],
   "source": [
    "from bioscrape.lineage import py_SimulateCellLineage\n",
    "\n",
    "max_time = 120\n",
    "timepoints = np.linspace(0,max_time,max_time*100)\n",
    "\n",
    "lineage = py_SimulateCellLineage(timepoints, Model = LM1)\n",
    "\n",
    "sch_tree = [[]]\n",
    "sch_tree_length = 1\n",
    "for i in range(lineage.py_size()):\n",
    "\tsch = lineage.py_get_schnitz(i)\n",
    "\tif sch.py_get_parent() == None:\n",
    "\t\tsch_tree[0].append(sch)\n",
    "\telse:\n",
    "\t\tfor j in range(len(sch_tree)):\n",
    "\t\t\tparent = sch.py_get_parent()\n",
    "\t\t\tif parent in sch_tree[j]:\n",
    "\t\t\t\tif len(sch_tree)<= j+1:\n",
    "\t\t\t\t\tsch_tree.append([])\n",
    "\t\t\t\t\tsch_tree_length += 1\n",
    "\t\t\t\tsch_tree[j+1].append(sch)\n",
    "\n",
    "color_list = []\n",
    "for i in range(sch_tree_length):\n",
    "\tcolor_list.append((i/sch_tree_length, 0, 1.-i/sch_tree_length))\n",
    "\n",
    "#X_ind = LM1.get_species_index('X')\n",
    "plt.figure()\n",
    "plt.subplot(211)\n",
    "count = 0\n",
    "for i in range(sch_tree_length):\n",
    "    for sch in sch_tree[i]:\n",
    "        df = sch.py_get_dataframe(Model = LM1)\n",
    "        count+=1\n",
    "        plt.plot(df[\"time\"], df[\"X\"], color = color_list[i])\n",
    "\n",
    "\n",
    "plt.subplot(212)\n",
    "for i in range(sch_tree_length):\n",
    "    for sch in sch_tree[i]:\n",
    "        df = sch.py_get_dataframe(Model = LM1)\n",
    "        plt.plot(df[\"time\"], df[\"volume\"], color = color_list[i])\n",
    "\n",
    "print(\"Total Cells Simulated\", count)\n",
    "\n",
    "plt.show()\n"
   ]
  },
  {
   "cell_type": "markdown",
   "metadata": {},
   "source": [
    "Testing the LineageSSASimulator PropogateCells Function"
   ]
  },
  {
   "cell_type": "code",
   "execution_count": null,
   "metadata": {},
   "outputs": [],
   "source": [
    "%matplotlib inline\n",
    "\n",
    "from bioscrape.lineage import py_PropagateCells\n",
    "\n",
    "max_time = 120\n",
    "timepoints = np.linspace(0,max_time,max_time*100)\n",
    "final_states = py_PropagateCells(timepoints, Model = LM1)\n",
    "\n",
    "\n",
    "plt.figure()\n",
    "plt.subplot(211)\n",
    "plt.hist(final_states[\"X\"], label = \"Count X\")\n",
    "plt.legend()\n",
    "plt.subplot(212)\n",
    "plt.hist(final_states[\"volume\"], label = \"Volume\")\n",
    "plt.legend()\n",
    "\n",
    "plt.show()"
   ]
  },
  {
   "cell_type": "markdown",
   "metadata": {},
   "source": [
    "3. Testing Single Cell Lineage Simulation"
   ]
  },
  {
   "cell_type": "code",
   "execution_count": null,
   "metadata": {},
   "outputs": [],
   "source": [
    "from bioscrape.lineage import py_SingleCellLineage\n",
    "\n",
    "max_time = 120\n",
    "timepoints = np.linspace(0,max_time,max_time*100)\n",
    "final_lineage = py_SingleCellLineage(timepoints, Model = LM1)\n",
    "\n",
    "lineage_size = len(final_lineage)\n",
    "volumes=[]\n",
    "plt.figure()\n",
    "color_list = [(i/lineage_size, 0, 1-i/lineage_size) for i in range(lineage_size)]\n",
    "for i in range(lineage_size):\n",
    "    f = final_lineage[i]\n",
    "    plt.subplot(121)\n",
    "    plt.plot(f[\"time\"], f[\"X\"], color = color_list[i])\n",
    "    plt.subplot(122)\n",
    "    plt.plot(f[\"time\"], f[\"volume\"], \":\", color = color_list[i])\n",
    "\n",
    "plt.show()"
   ]
  },
  {
   "cell_type": "code",
   "execution_count": null,
   "metadata": {},
   "outputs": [],
   "source": []
  },
  {
   "cell_type": "code",
   "execution_count": null,
   "metadata": {},
   "outputs": [],
   "source": []
  }
 ],
 "metadata": {
  "kernelspec": {
   "display_name": "Python 3",
   "language": "python",
   "name": "python3"
  },
  "language_info": {
   "codemirror_mode": {
    "name": "ipython",
    "version": 3
   },
   "file_extension": ".py",
   "mimetype": "text/x-python",
   "name": "python",
   "nbconvert_exporter": "python",
   "pygments_lexer": "ipython3",
   "version": "3.6.6"
  }
 },
 "nbformat": 4,
 "nbformat_minor": 2
}
